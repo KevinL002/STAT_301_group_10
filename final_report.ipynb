{
 "cells": [
  {
   "cell_type": "markdown",
   "metadata": {},
   "source": [
    "# STAT 301 Final Report\n",
    "\n",
    "#### Group 10: Stellar Shar, Charles Deng, Ibrahim Sajid, Kevin Li"
   ]
  },
  {
   "cell_type": "code",
   "execution_count": 1,
   "metadata": {
    "vscode": {
     "languageId": "r"
    }
   },
   "outputs": [
    {
     "name": "stderr",
     "output_type": "stream",
     "text": [
      "\n",
      "Attaching package: 'dplyr'\n",
      "\n",
      "\n",
      "The following objects are masked from 'package:stats':\n",
      "\n",
      "    filter, lag\n",
      "\n",
      "\n",
      "The following objects are masked from 'package:base':\n",
      "\n",
      "    intersect, setdiff, setequal, union\n",
      "\n",
      "\n",
      "Warning message:\n",
      "\"package 'purrr' was built under R version 4.4.3\"\n",
      "── \u001b[1mAttaching core tidyverse packages\u001b[22m ──────────────────────── tidyverse 2.0.0 ──\n",
      "\u001b[32m✔\u001b[39m \u001b[34mforcats  \u001b[39m 1.0.0     \u001b[32m✔\u001b[39m \u001b[34mstringr  \u001b[39m 1.5.1\n",
      "\u001b[32m✔\u001b[39m \u001b[34mggplot2  \u001b[39m 3.5.1     \u001b[32m✔\u001b[39m \u001b[34mtibble   \u001b[39m 3.2.1\n",
      "\u001b[32m✔\u001b[39m \u001b[34mlubridate\u001b[39m 1.9.4     \u001b[32m✔\u001b[39m \u001b[34mtidyr    \u001b[39m 1.3.1\n",
      "\u001b[32m✔\u001b[39m \u001b[34mpurrr    \u001b[39m 1.0.4     \n",
      "── \u001b[1mConflicts\u001b[22m ────────────────────────────────────────── tidyverse_conflicts() ──\n",
      "\u001b[31m✖\u001b[39m \u001b[34mdplyr\u001b[39m::\u001b[32mfilter()\u001b[39m masks \u001b[34mstats\u001b[39m::filter()\n",
      "\u001b[31m✖\u001b[39m \u001b[34mdplyr\u001b[39m::\u001b[32mlag()\u001b[39m    masks \u001b[34mstats\u001b[39m::lag()\n",
      "\u001b[36mℹ\u001b[39m Use the conflicted package (\u001b[3m\u001b[34m<http://conflicted.r-lib.org/>\u001b[39m\u001b[23m) to force all conflicts to become errors\n",
      "Warning message:\n",
      "\"package 'leaps' was built under R version 4.4.3\"\n",
      "Warning message:\n",
      "\"package 'tidymodels' was built under R version 4.4.3\"\n",
      "── \u001b[1mAttaching packages\u001b[22m ────────────────────────────────────── tidymodels 1.3.0 ──\n",
      "\n",
      "\u001b[32m✔\u001b[39m \u001b[34mbroom       \u001b[39m 1.0.7     \u001b[32m✔\u001b[39m \u001b[34mrsample     \u001b[39m 1.3.0\n",
      "\u001b[32m✔\u001b[39m \u001b[34mdials       \u001b[39m 1.4.0     \u001b[32m✔\u001b[39m \u001b[34mtune        \u001b[39m 1.3.0\n",
      "\u001b[32m✔\u001b[39m \u001b[34minfer       \u001b[39m 1.0.7     \u001b[32m✔\u001b[39m \u001b[34mworkflows   \u001b[39m 1.2.0\n",
      "\u001b[32m✔\u001b[39m \u001b[34mmodeldata   \u001b[39m 1.4.0     \u001b[32m✔\u001b[39m \u001b[34mworkflowsets\u001b[39m 1.1.0\n",
      "\u001b[32m✔\u001b[39m \u001b[34mparsnip     \u001b[39m 1.3.1     \u001b[32m✔\u001b[39m \u001b[34myardstick   \u001b[39m 1.3.2\n",
      "\u001b[32m✔\u001b[39m \u001b[34mrecipes     \u001b[39m 1.1.1     \n",
      "\n",
      "Warning message:\n",
      "\"package 'dials' was built under R version 4.4.3\"\n",
      "Warning message:\n",
      "\"package 'infer' was built under R version 4.4.3\"\n",
      "Warning message:\n",
      "\"package 'modeldata' was built under R version 4.4.3\"\n",
      "Warning message:\n",
      "\"package 'parsnip' was built under R version 4.4.3\"\n",
      "Warning message:\n",
      "\"package 'recipes' was built under R version 4.4.3\"\n",
      "Warning message:\n",
      "\"package 'rsample' was built under R version 4.4.3\"\n",
      "Warning message:\n",
      "\"package 'tune' was built under R version 4.4.3\"\n",
      "Warning message:\n",
      "\"package 'workflows' was built under R version 4.4.3\"\n",
      "Warning message:\n",
      "\"package 'workflowsets' was built under R version 4.4.3\"\n",
      "Warning message:\n",
      "\"package 'yardstick' was built under R version 4.4.3\"\n",
      "── \u001b[1mConflicts\u001b[22m ───────────────────────────────────────── tidymodels_conflicts() ──\n",
      "\u001b[31m✖\u001b[39m \u001b[34mscales\u001b[39m::\u001b[32mdiscard()\u001b[39m masks \u001b[34mpurrr\u001b[39m::discard()\n",
      "\u001b[31m✖\u001b[39m \u001b[34mdplyr\u001b[39m::\u001b[32mfilter()\u001b[39m   masks \u001b[34mstats\u001b[39m::filter()\n",
      "\u001b[31m✖\u001b[39m \u001b[34mrecipes\u001b[39m::\u001b[32mfixed()\u001b[39m  masks \u001b[34mstringr\u001b[39m::fixed()\n",
      "\u001b[31m✖\u001b[39m \u001b[34mdplyr\u001b[39m::\u001b[32mlag()\u001b[39m      masks \u001b[34mstats\u001b[39m::lag()\n",
      "\u001b[31m✖\u001b[39m \u001b[34myardstick\u001b[39m::\u001b[32mspec()\u001b[39m masks \u001b[34mreadr\u001b[39m::spec()\n",
      "\u001b[31m✖\u001b[39m \u001b[34mrecipes\u001b[39m::\u001b[32mstep()\u001b[39m   masks \u001b[34mstats\u001b[39m::step()\n",
      "\n"
     ]
    }
   ],
   "source": [
    "library(readr)\n",
    "library(dplyr)\n",
    "library(tidyverse)\n",
    "library(tidyr)\n",
    "library(leaps)\n",
    "library(ggplot2)\n",
    "library(tidymodels)"
   ]
  },
  {
   "cell_type": "markdown",
   "metadata": {},
   "source": [
    "## 1. Introduction"
   ]
  },
  {
   "cell_type": "markdown",
   "metadata": {},
   "source": [
    "Online food delivery has become a huge part of how we eat today. It's not just about convenience anymore; for many people, it's an everyday necessity. The industry is growing fast, about 9% each year, and could be worth nearly $2 trillion by 2029 according to recent research (Mohamadabadi et al., 2024). One of the most important things customers look at when ordering is the star rating. Research shows people trust these ratings almost as much as personal recommendations (Selvaraj & Nallasivam, 2023).\n",
    "\n",
    "This got us thinking: Could we predict a restaurant's star rating just by looking at basic information like its price range, how many reviews it has, how far it delivers, and what city it's in? Using real data from DoorDash in Canada, we're trying to build a model that does exactly that. We're not trying to figure out why certain restaurants get better ratings (that would require different methods), but rather see if we can make accurate predictions based on what we can observe.\n",
    "\n",
    "This approach builds on what we know from previous studies about how important ratings are in food delivery apps, while focusing on a practical prediction problem that could help both the platforms and restaurant owners. The idea is that if we can predict ratings well, it might help restaurants understand what factors matter most to customers, and help platforms improve their recommendation systems."
   ]
  },
  {
   "cell_type": "markdown",
   "metadata": {},
   "source": [
    "**Research Question**:"
   ]
  },
  {
   "cell_type": "markdown",
   "metadata": {},
   "source": [
    "## 2. Methods and Results"
   ]
  },
  {
   "cell_type": "markdown",
   "metadata": {},
   "source": [
    "#### Part A: Exploratory Data Analysis (EDA)"
   ]
  },
  {
   "cell_type": "markdown",
   "metadata": {},
   "source": [
    "The dataset we use is [Food Delivery in Canada (DoorDash)](https://www.kaggle.com/datasets/satoshiss/food-delivery-in-canada-door-dash), with variables listed in the table below. It contains data on food delivery orders in Canada, focusing on restaurants with under 30-minute delivery times using iconic downtown addresses for each city on the DoorDash platform. The dataset has 9 variables and 3,290 observations, including order-related information such as restaurant details, delivery distance, price range, and more. These data are collected from DoorDash's public website without experimental manipulation, making this an observational dataset."
   ]
  },
  {
   "cell_type": "markdown",
   "metadata": {},
   "source": [
    "| **variable**       | **type**       | **description**                                                                 |\n",
    "|--------------------|----------------|---------------------------------------------------------------------------------|\n",
    "| restaurant         | text           | Name of the restaurant.                                                         |\n",
    "| url                | text           | Restaurant menu page URL.                                         |\n",
    "| distance           | numeric        | Distance from the order location to the restaurant (in miles).                  |\n",
    "| star               | numeric        | Star rating of the restaurant (out of 5).                               |\n",
    "| num_reviews        | numeric        | Number of reviews for the restaurant.                                           |\n",
    "| city               | categorical    | City where the order is placed (levels: Brampton, Calgary, Edmonton, Montreal, Ottawa, Toronto, Vancouver, Winnipeg).                                              |\n",
    "| price              | categorical    | Price range of the restaurant (levels expressed in 1 to 4 dollar signs).                        |\n",
    "| category_1         | text           | Primary cuisine type (e.g., indian, chinese, bakery, fast food).                |\n",
    "| category_2         | text           | Secondary menu category (e.g., biryani, burgers, noodles, vegetarian).          |"
   ]
  },
  {
   "cell_type": "markdown",
   "metadata": {},
   "source": [
    "In our analysis, we will exclude variables like restaurant name, URL, and category 1 and 2, since they are either not directly related to predicting star ratings or lack clarity in what they represent."
   ]
  },
  {
   "cell_type": "code",
   "execution_count": 2,
   "metadata": {
    "vscode": {
     "languageId": "r"
    }
   },
   "outputs": [
    {
     "name": "stderr",
     "output_type": "stream",
     "text": [
      "\u001b[1m\u001b[22mNew names:\n",
      "\u001b[36m•\u001b[39m `` -> `...1`\n"
     ]
    },
    {
     "data": {
      "text/html": [
       "<table class=\"dataframe\">\n",
       "<caption>A tibble: 6 × 5</caption>\n",
       "<thead>\n",
       "\t<tr><th scope=col>distance</th><th scope=col>star</th><th scope=col>num_reviews</th><th scope=col>price_range</th><th scope=col>city_size</th></tr>\n",
       "\t<tr><th scope=col>&lt;dbl&gt;</th><th scope=col>&lt;dbl&gt;</th><th scope=col>&lt;dbl&gt;</th><th scope=col>&lt;fct&gt;</th><th scope=col>&lt;fct&gt;</th></tr>\n",
       "</thead>\n",
       "<tbody>\n",
       "\t<tr><td>0.90</td><td>4.0</td><td>640</td><td>$$</td><td>Small City</td></tr>\n",
       "\t<tr><td>2.00</td><td>4.0</td><td>301</td><td>$$</td><td>Small City</td></tr>\n",
       "\t<tr><td>1.00</td><td>4.2</td><td>890</td><td>$$</td><td>Small City</td></tr>\n",
       "\t<tr><td>0.40</td><td>4.4</td><td>109</td><td>$ </td><td>Small City</td></tr>\n",
       "\t<tr><td>0.09</td><td>4.5</td><td>481</td><td>$$</td><td>Small City</td></tr>\n",
       "\t<tr><td>0.90</td><td>3.7</td><td>730</td><td>$$</td><td>Small City</td></tr>\n",
       "</tbody>\n",
       "</table>\n"
      ],
      "text/latex": [
       "A tibble: 6 × 5\n",
       "\\begin{tabular}{lllll}\n",
       " distance & star & num\\_reviews & price\\_range & city\\_size\\\\\n",
       " <dbl> & <dbl> & <dbl> & <fct> & <fct>\\\\\n",
       "\\hline\n",
       "\t 0.90 & 4.0 & 640 & \\$\\$ & Small City\\\\\n",
       "\t 2.00 & 4.0 & 301 & \\$\\$ & Small City\\\\\n",
       "\t 1.00 & 4.2 & 890 & \\$\\$ & Small City\\\\\n",
       "\t 0.40 & 4.4 & 109 & \\$  & Small City\\\\\n",
       "\t 0.09 & 4.5 & 481 & \\$\\$ & Small City\\\\\n",
       "\t 0.90 & 3.7 & 730 & \\$\\$ & Small City\\\\\n",
       "\\end{tabular}\n"
      ],
      "text/markdown": [
       "\n",
       "A tibble: 6 × 5\n",
       "\n",
       "| distance &lt;dbl&gt; | star &lt;dbl&gt; | num_reviews &lt;dbl&gt; | price_range &lt;fct&gt; | city_size &lt;fct&gt; |\n",
       "|---|---|---|---|---|\n",
       "| 0.90 | 4.0 | 640 | $$ | Small City |\n",
       "| 2.00 | 4.0 | 301 | $$ | Small City |\n",
       "| 1.00 | 4.2 | 890 | $$ | Small City |\n",
       "| 0.40 | 4.4 | 109 | $  | Small City |\n",
       "| 0.09 | 4.5 | 481 | $$ | Small City |\n",
       "| 0.90 | 3.7 | 730 | $$ | Small City |\n",
       "\n"
      ],
      "text/plain": [
       "  distance star num_reviews price_range city_size \n",
       "1 0.90     4.0  640         $$          Small City\n",
       "2 2.00     4.0  301         $$          Small City\n",
       "3 1.00     4.2  890         $$          Small City\n",
       "4 0.40     4.4  109         $           Small City\n",
       "5 0.09     4.5  481         $$          Small City\n",
       "6 0.90     3.7  730         $$          Small City"
      ]
     },
     "metadata": {},
     "output_type": "display_data"
    }
   ],
   "source": [
    "# Load data\n",
    "url <- \"https://raw.githubusercontent.com/KevinL002/STAT_301_group_10/refs/heads/main/cleaned_full_data.csv\"\n",
    "\n",
    "dataset <- read_csv(url, show_col_types = FALSE)\n",
    "colnames(dataset)[1] <- \"index\"\n",
    "\n",
    "# Data Processing\n",
    "cleaned_data <- dataset %>%\n",
    "    mutate(price_range = fct_collapse(price_range, \"$$$+\" = c(\"$$$\", \"$$$$\"))) %>% #(optional-bias)\n",
    "    mutate(city_size = case_when(city %in% c(\"Vancouver\", \"Calgary\", \"Toronto\", \"Montreal\") ~ \"Big City\", \n",
    "                                 TRUE ~ \"Small City\")) %>%  # Classify city size by their population\n",
    "    select(-1, -2, -3, -city, -category_1, -category_2) %>%  # Select useful variables\n",
    "    mutate(city_size = factor(city_size)) %>%\n",
    "    drop_na()\n",
    "\n",
    "head(cleaned_data)\n",
    "# table(cleaned_data$price_range)"
   ]
  },
  {
   "cell_type": "markdown",
   "metadata": {},
   "source": [
    "#### Part B: Visualization"
   ]
  },
  {
   "cell_type": "code",
   "execution_count": 16,
   "metadata": {
    "vscode": {
     "languageId": "r"
    }
   },
   "outputs": [
    {
     "data": {
      "image/png": "[encoded data removed]",
      "text/plain": [
       "plot without title"
      ]
     },
     "metadata": {
      "image/png": {
       "height": 600,
       "width": 900
      }
     },
     "output_type": "display_data"
    }
   ],
   "source": [
    "options(repr.plot.width = 15, repr.plot.height = 10)\n",
    "\n",
    "\n",
    "visualize_data <- cleaned_data %>%\n",
    "    mutate(review_group = cut(num_reviews,\n",
    "                            breaks = c(0, 50, 200, 500, 1000, 5000, Inf),\n",
    "                            labels = c(\"0-50\", \"51-200\", \"201-500\", \"501-1000\", \"1001-5000\", \"5000+\")))\n",
    "\n",
    "ggplot(visualize_data, aes(x = review_group, y = star, fill = city_size)) +\n",
    "    geom_boxplot(position = position_dodge(width = 0.6), width = 0.4) +\n",
    "    facet_grid(~ price_range) +\n",
    "    labs(title = \"Restaurant Ratings by Review Count and City Group\",\n",
    "         x = \"Review Count Group\",\n",
    "         y = \"Star Rating\") +\n",
    "    theme(text = element_text(size = 16),\n",
    "          axis.text.x = element_text(angle = 45, hjust = 1, size = 10),\n",
    "          plot.margin = margin(30, 30, 30, 30)) +\n",
    "  scale_fill_brewer(palette = \"Set2\")\n"
   ]
  },
  {
   "cell_type": "markdown",
   "metadata": {},
   "source": [
    "**!!! Description:**"
   ]
  },
  {
   "cell_type": "code",
   "execution_count": 17,
   "metadata": {
    "vscode": {
     "languageId": "r"
    }
   },
   "outputs": [
    {
     "name": "stdout",
     "output_type": "stream",
     "text": [
      "Figure 4: Heatmap of all inputs\n"
     ]
    },
    {
     "data": {
      "image/png": "[encoded data removed]",
      "text/plain": [
       "plot without title"
      ]
     },
     "metadata": {
      "image/png": {
       "height": 600,
       "width": 600
      }
     },
     "output_type": "display_data"
    }
   ],
   "source": [
    "options(repr.plot.width = 10, repr.plot.height = 10)\n",
    "\n",
    "\n",
    "# Calculate the correlation\n",
    "corr_matrix <- cleaned_data %>%\n",
    "  mutate(price_range = as.numeric(factor(price_range)),\n",
    "         city_size = as.numeric(factor(city_size))) %>%\n",
    "  select(-star) %>%\n",
    "  select(where(is.numeric)) %>%\n",
    "  cor() %>%\n",
    "  as_tibble(rownames = 'var1') %>%\n",
    "  pivot_longer(-var1, names_to = \"var2\", values_to = \"corr\")\n",
    "\n",
    "# plot the heatmap\n",
    "corr_plot <- corr_matrix %>%\n",
    "    ggplot(aes(var1, var2)) +\n",
    "    geom_tile(aes(fill = corr), color = \"white\") +\n",
    "    scale_fill_distiller(\"Correlation Coefficient \\n\",\n",
    "                         palette = \"Blues\",\n",
    "                         direction = 1, \n",
    "                         limits = c(-1, 1)\n",
    "    ) +\n",
    "    labs(x = \"\", y = \"\") +\n",
    "    theme_minimal() +\n",
    "    theme(\n",
    "        axis.text.x = element_text(angle = 45, vjust = 1, size = 14, hjust = 1),\n",
    "        axis.text.y = element_text(vjust = 1, size = 14, hjust = 1),\n",
    "        legend.title = element_text(size = 18),\n",
    "        legend.text = element_text(size = 12),\n",
    "        legend.key.size = unit(1.5, \"cm\")\n",
    "    ) +\n",
    "    coord_fixed() +\n",
    "    geom_text(aes(var2, var1, label = round(corr, 2)), color = \"black\", size = 4.5)\n",
    "corr_plot\n",
    "\n",
    "cat(\"Figure 4: Heatmap of all inputs\\n\")"
   ]
  },
  {
   "cell_type": "markdown",
   "metadata": {},
   "source": [
    "The correlation between these 4 variables is reasonable and all are less than 0.3, indicating low multicollinearity and the potential for combined predictive power."
   ]
  },
  {
   "cell_type": "markdown",
   "metadata": {},
   "source": [
    "#### Part C: Methods"
   ]
  },
  {
   "cell_type": "markdown",
   "metadata": {},
   "source": [
    "`Summary` We aim to identify the best combination of inputs that yield the best prediction using stepwise selection with linear regression."
   ]
  },
  {
   "cell_type": "markdown",
   "metadata": {},
   "source": [
    "### Why this method?\n",
    "`Backward Stepwise Selection` \n",
    "- We use **backward selection** to filter true features that really matter. This method produces the simple regression model, which enhances **interpretability**.\n",
    "- The process is **deterministic** and provides clear and consistent results.\n",
    "\n",
    "`Linear Regression`\n",
    "- Linear regression is necessary because it is highly interpretable. The coefficient $\\beta_j$ directly represent the change in \n",
    "$Y_i$ for a unit change in $x_i$.\n",
    "- Interaction terms can be explicitly added to the model.\n",
    "- Linear regression is computationally efficient and straightforward to implement.\n",
    "\n",
    "`Assumptions`are essential for the method selected:\n",
    "\n",
    "Applying Linear Least Square Regression requires several assumptions to ensure validity:\n",
    "- **Linearity**: The expected value of the response variable (star rating) is a linear combination of the explanatory variables.\n",
    "- **Independence**: The errors are independent, i.e., $\\mathbb{E}[\\epsilon] = 0$.\n",
    "- **Normality**: The errors (not the response itself) are normally distributed at each level of the covariates.\n",
    "- **Equal Variance**: The standard deviation of the responses is equal for all levels of covariates (homoscedasticity).\n",
    "- **Adequate Sample Size**: Assumes a sufficiently large sample size to ensure reliable estimation of the model parameters.\n",
    "\n",
    "`Potential limitation and weaknesses`\n",
    "- Interaction terms may introduce multicollinearity, leading to unstable standard errors.\n",
    "- Stepwise selection is a greedy method that can overfit the training data; cross-validation is necessary to assess model performance.\n",
    "- Including many interaction terms can reduce model interpretability.\n",
    "- The model may be limited by the data itself, as star ratings can be high even with few reviews, suggesting nonlinearity or unobserved factors not captured by the available features."
   ]
  },
  {
   "cell_type": "markdown",
   "metadata": {},
   "source": [
    "#### Part D: Implementation of a proposed model: computational code and output"
   ]
  },
  {
   "cell_type": "code",
   "execution_count": 13,
   "metadata": {
    "vscode": {
     "languageId": "r"
    }
   },
   "outputs": [],
   "source": [
    "# Split the data into two subsets\n",
    "data_split <- initial_split(cleaned_data, prop = 0.7, strata = star)\n",
    "training_set <- training(data_split)\n",
    "testing_set <- testing(data_split)"
   ]
  },
  {
   "cell_type": "markdown",
   "metadata": {},
   "source": [
    "We use backward stepwise selection to find the best attributes for star rating prediction.  Using model fit criteria such as adjusted R-squared, the strategy begins with all variables and gradually eliminates the least helpful ones.  We chose this approach because it strikes a compromise between predictive strength and model simplicity, and it performs well when interpretability is crucial."
   ]
  },
  {
   "cell_type": "code",
   "execution_count": 14,
   "metadata": {
    "vscode": {
     "languageId": "r"
    }
   },
   "outputs": [
    {
     "data": {
      "text/plain": [
       "Subset selection object\n",
       "Call: regsubsets.formula(star ~ distance + num_reviews + price_range + \n",
       "    city_size, data = training_set, nvmax = 4, method = \"backward\")\n",
       "5 Variables  (and intercept)\n",
       "                    Forced in Forced out\n",
       "distance                FALSE      FALSE\n",
       "num_reviews             FALSE      FALSE\n",
       "price_range$$           FALSE      FALSE\n",
       "price_range$$$+         FALSE      FALSE\n",
       "city_sizeSmall City     FALSE      FALSE\n",
       "1 subsets of each size up to 4\n",
       "Selection Algorithm: backward\n",
       "         distance num_reviews price_range$$ price_range$$$+ city_sizeSmall City\n",
       "1  ( 1 ) \" \"      \" \"         \" \"           \" \"             \"*\"                \n",
       "2  ( 1 ) \" \"      \" \"         \"*\"           \" \"             \"*\"                \n",
       "3  ( 1 ) \" \"      \"*\"         \"*\"           \" \"             \"*\"                \n",
       "4  ( 1 ) \"*\"      \"*\"         \"*\"           \" \"             \"*\"                "
      ]
     },
     "metadata": {},
     "output_type": "display_data"
    }
   ],
   "source": [
    "backward_selection <- regsubsets(star ~ distance + num_reviews + price_range + city_size, \n",
    "                                 data = training_set, \n",
    "                                 nvmax = 4, \n",
    "                                 method = \"backward\")\n",
    "\n",
    "backward_summary <- summary(backward_selection)\n",
    "backward_summary"
   ]
  },
  {
   "cell_type": "markdown",
   "metadata": {},
   "source": [
    "The number of reviews, price range, and city size were the most significant predictors of restaurant star ratings, according to the findings of the backward selection process.  num_reviews, a mid-range pricing (price_range$$), and whether the restaurant was situated in a small city were all included in the ideal three-variable model, indicating that evaluations are influenced by both popularity and location factors."
   ]
  },
  {
   "cell_type": "code",
   "execution_count": 15,
   "metadata": {
    "vscode": {
     "languageId": "r"
    }
   },
   "outputs": [
    {
     "data": {
      "image/png": "[encoded data removed]",
      "text/plain": [
       "Plot with title \"Backward Selection - Adjusted R²\""
      ]
     },
     "metadata": {
      "image/png": {
       "height": 600,
       "width": 600
      }
     },
     "output_type": "display_data"
    }
   ],
   "source": [
    "par(bg = \"white\", col.axis = \"black\", col.lab = \"black\", col.main = \"black\")\n",
    "\n",
    "plot(backward_summary$adjr2, type = \"b\", \n",
    "     xlab = \"Number of Variables\", ylab = \"Adjusted R-squared\", \n",
    "     main = \"Backward Selection - Adjusted R²\")\n",
    "best_size <- which.max(backward_summary$adjr2)\n",
    "points(best_size, backward_summary$adjr2[best_size], col = \"red\", pch = 19)"
   ]
  },
  {
   "cell_type": "markdown",
   "metadata": {},
   "source": [
    "This plot shows how the adjusted R-squared changes as more variables are included in the model using backward stepwise selection. The peak occurs at three variables, indicating the optimal balance between model complexity and explanatory power. Including more than three variables slightly reduces adjusted R-squared, suggesting that additional predictors do not meaningfully improve the model and may add unnecessary complexity."
   ]
  },
  {
   "cell_type": "code",
   "execution_count": 8,
   "metadata": {
    "vscode": {
     "languageId": "r"
    }
   },
   "outputs": [
    {
     "data": {
      "text/html": [
       "<table class=\"dataframe\">\n",
       "<caption>A tibble: 1 × 12</caption>\n",
       "<thead>\n",
       "\t<tr><th scope=col>r.squared</th><th scope=col>adj.r.squared</th><th scope=col>sigma</th><th scope=col>statistic</th><th scope=col>p.value</th><th scope=col>df</th><th scope=col>logLik</th><th scope=col>AIC</th><th scope=col>BIC</th><th scope=col>deviance</th><th scope=col>df.residual</th><th scope=col>nobs</th></tr>\n",
       "\t<tr><th scope=col>&lt;dbl&gt;</th><th scope=col>&lt;dbl&gt;</th><th scope=col>&lt;dbl&gt;</th><th scope=col>&lt;dbl&gt;</th><th scope=col>&lt;dbl&gt;</th><th scope=col>&lt;dbl&gt;</th><th scope=col>&lt;dbl&gt;</th><th scope=col>&lt;dbl&gt;</th><th scope=col>&lt;dbl&gt;</th><th scope=col>&lt;dbl&gt;</th><th scope=col>&lt;dbl&gt;</th><th scope=col>&lt;dbl&gt;</th></tr>\n",
       "</thead>\n",
       "<tbody>\n",
       "\t<tr><td>0.041</td><td>0.039</td><td>0.271</td><td>19.677</td><td>0</td><td>4</td><td>-202.243</td><td>416.485</td><td>449.564</td><td>133.764</td><td>1827</td><td>1832</td></tr>\n",
       "</tbody>\n",
       "</table>\n"
      ],
      "text/latex": [
       "A tibble: 1 × 12\n",
       "\\begin{tabular}{llllllllllll}\n",
       " r.squared & adj.r.squared & sigma & statistic & p.value & df & logLik & AIC & BIC & deviance & df.residual & nobs\\\\\n",
       " <dbl> & <dbl> & <dbl> & <dbl> & <dbl> & <dbl> & <dbl> & <dbl> & <dbl> & <dbl> & <dbl> & <dbl>\\\\\n",
       "\\hline\n",
       "\t 0.041 & 0.039 & 0.271 & 19.677 & 0 & 4 & -202.243 & 416.485 & 449.564 & 133.764 & 1827 & 1832\\\\\n",
       "\\end{tabular}\n"
      ],
      "text/markdown": [
       "\n",
       "A tibble: 1 × 12\n",
       "\n",
       "| r.squared &lt;dbl&gt; | adj.r.squared &lt;dbl&gt; | sigma &lt;dbl&gt; | statistic &lt;dbl&gt; | p.value &lt;dbl&gt; | df &lt;dbl&gt; | logLik &lt;dbl&gt; | AIC &lt;dbl&gt; | BIC &lt;dbl&gt; | deviance &lt;dbl&gt; | df.residual &lt;dbl&gt; | nobs &lt;dbl&gt; |\n",
       "|---|---|---|---|---|---|---|---|---|---|---|---|\n",
       "| 0.041 | 0.039 | 0.271 | 19.677 | 0 | 4 | -202.243 | 416.485 | 449.564 | 133.764 | 1827 | 1832 |\n",
       "\n"
      ],
      "text/plain": [
       "      r.squared adj.r.squared sigma statistic p.value df logLik   AIC    \n",
       "value 0.041     0.039         0.271 19.677    0       4  -202.243 416.485\n",
       "      BIC     deviance df.residual nobs\n",
       "value 449.564 133.764  1827        1832"
      ]
     },
     "metadata": {},
     "output_type": "display_data"
    }
   ],
   "source": [
    "mlr_model <- lm(star ~ num_reviews + price_range + city_size, data = training_set)\n",
    "\n",
    "mlr_gof <- glance(mlr_model) |> round(3)\n",
    "mlr_gof"
   ]
  },
  {
   "cell_type": "markdown",
   "metadata": {},
   "source": [
    "With an R-squared of 0.041 and an adjusted R-squared of 0.039 for the training set, the multiple linear regression model only partially explains the variance in restaurant star ratings.  The model is statistically significant (F = 19.60, p < 0.001), indicating that the predictors together make a considerable contribution to the response variable, even with the low explanatory power."
   ]
  },
  {
   "cell_type": "markdown",
   "metadata": {},
   "source": [
    "We employed root mean squared error (RMSE), mean absolute error (MAE), and R-squared as metrics to assess the multiple linear regression model's performance on the test set.  With an RMSE of 0.262 and an MAE of 0.197, the model produced star ratings with a comparatively low average prediction error.  Nonetheless, the R-squared value was around 0.040, indicating that the model only accounts for roughly 4% of the ratings' variation. This is in line with previous findings and emphasizes the features' poor predictive ability."
   ]
  },
  {
   "cell_type": "code",
   "execution_count": 9,
   "metadata": {
    "vscode": {
     "languageId": "r"
    }
   },
   "outputs": [
    {
     "data": {
      "text/html": [
       "<table class=\"dataframe\">\n",
       "<caption>A tibble: 3 × 3</caption>\n",
       "<thead>\n",
       "\t<tr><th scope=col>.metric</th><th scope=col>.estimator</th><th scope=col>.estimate</th></tr>\n",
       "\t<tr><th scope=col>&lt;chr&gt;</th><th scope=col>&lt;chr&gt;</th><th scope=col>&lt;dbl&gt;</th></tr>\n",
       "</thead>\n",
       "<tbody>\n",
       "\t<tr><td>rmse</td><td>standard</td><td>0.2778880</td></tr>\n",
       "\t<tr><td>rsq </td><td>standard</td><td>0.0402350</td></tr>\n",
       "\t<tr><td>mae </td><td>standard</td><td>0.2027196</td></tr>\n",
       "</tbody>\n",
       "</table>\n"
      ],
      "text/latex": [
       "A tibble: 3 × 3\n",
       "\\begin{tabular}{lll}\n",
       " .metric & .estimator & .estimate\\\\\n",
       " <chr> & <chr> & <dbl>\\\\\n",
       "\\hline\n",
       "\t rmse & standard & 0.2778880\\\\\n",
       "\t rsq  & standard & 0.0402350\\\\\n",
       "\t mae  & standard & 0.2027196\\\\\n",
       "\\end{tabular}\n"
      ],
      "text/markdown": [
       "\n",
       "A tibble: 3 × 3\n",
       "\n",
       "| .metric &lt;chr&gt; | .estimator &lt;chr&gt; | .estimate &lt;dbl&gt; |\n",
       "|---|---|---|\n",
       "| rmse | standard | 0.2778880 |\n",
       "| rsq  | standard | 0.0402350 |\n",
       "| mae  | standard | 0.2027196 |\n",
       "\n"
      ],
      "text/plain": [
       "  .metric .estimator .estimate\n",
       "1 rmse    standard   0.2778880\n",
       "2 rsq     standard   0.0402350\n",
       "3 mae     standard   0.2027196"
      ]
     },
     "metadata": {},
     "output_type": "display_data"
    }
   ],
   "source": [
    "predictions <- predict(mlr_model, newdata = testing_set)\n",
    "\n",
    "library(yardstick)\n",
    "results <- data.frame(\n",
    "  truth = testing_set$star,\n",
    "  estimate = predictions\n",
    ")\n",
    "\n",
    "metrics(results, truth = truth, estimate = estimate)"
   ]
  },
  {
   "cell_type": "markdown",
   "metadata": {},
   "source": [
    "## 3. Discussion"
   ]
  },
  {
   "cell_type": "markdown",
   "metadata": {},
   "source": [
    "##### **Results/Implications**\n",
    "\n",
    "1. RMSE:\n",
    "- The Root Mean Squared Error, which measures the average magnitude of the errors between the predicted and observed values, is 0.2778880. This indicates that, on average, the model's predictions are 0.277 ~ star ratings away from the correct star rating. \n",
    "- The relatively low RMSE indicates that the model does a reasonable job of predicting the Star Rating for door-dash restaurants. \n",
    "2. R^2:\n",
    "- The R-squared of the model measures the proportion of the variance in the dependent variable explained by our model. \n",
    "- In our case, the R-squared of 0.04 is very low, indicating that only about 4% of the variation in star rating is explained by our model alone. Given the extremely low R-squared, we must conclude that the model is a poor fit for the data or that the variables used do not contain enough information to explain the variation in star ratings. \n",
    "3. Mean Absolute Error:\n",
    "- The Mean Absolute Error measures the differences between the predicted and actual values. It is similar to RMSE but differs in that it does not penalize large errors. \n",
    "The MAE for our model is 0.2027. This indicates that, on average, the model's predictions for star rating are incorrect by 0.203 stars from the true values recorded in the test set. "
   ]
  },
  {
   "cell_type": "markdown",
   "metadata": {},
   "source": [
    "##### **Expectations**\n",
    "\n",
    "Overall, the low explanatory power of the model was expected. This is because of the extremely limited information contained in the dataset. Remember that our model was restricted because the dataset only contained four reasonably consistent variables (price range, city size, distance, and number_reviews). Furthermore, certain variables, such as distance, were poorly defined and inconsistently recorded. However, despite the low explanatory power of the model, the model's predictive power was relatively strong, given that the RMSE was less than a 1-star point, indicating that, on average, the model would be able to predict a restaurant's star rating within a 1-star rating. "
   ]
  },
  {
   "cell_type": "markdown",
   "metadata": {},
   "source": [
    "##### **Improvements**\n",
    "\n",
    "The main issue with our model would be the lack of information and data used to train the model. If we had more consistent and better-documented data, such as consistent data on the type of food served, number of orders, portion sizes, and wait time, we could construct a model that better explains and predicts star ratings. Furthermore, the choice of model, namely Linear Regression, could be swapped out for a better model because Star Rating (our dependent variable) is not necessarily numerical. Rather, a Star rating is an integer measurement that could be interpreted as ordinal, given that five stars are ordered higher and better than those below it. For example, an Ordinal Logistic Regression model could arguably better fit our question. "
   ]
  },
  {
   "cell_type": "markdown",
   "metadata": {},
   "source": [
    "##### **Future Questions and Research**\n",
    "\n",
    "Future research built upon the findings here could shift their focus toward understanding customer demographics and/or the impact social media or other online platforms have on the star ratings of a restaurant. For example, the elderly and youths may have different preferences, which could affect a restaurant's star rating that specifically targets or caters to a certain demographic group. Furthermore, given the online nature of Doordash, social media will have a noticeable impact on the popularity and indirectly on a restaurant's star rating. It would be interesting to see how the virality of a restaurant affects its overall performance and ratings. "
   ]
  },
  {
   "cell_type": "markdown",
   "metadata": {},
   "source": [
    "## 4. References"
   ]
  },
  {
   "cell_type": "markdown",
   "metadata": {},
   "source": [
    "Dataset Citation:\n",
    "Data source: Satoshi_S. (2022). Food delivery in Canada (Door Dash) [Data set]. Kaggle. https://www.kaggle.com/datasets/satoshiss/food-delivery-in-canada-door-dash\n",
    "\n",
    "Mohamadabadi, T. A., Nazarian-Jashnabadi, J., Daryani, M. A., Al-Rashid, M. A., & Campisi, T. (2024). Factors affecting online customer experience of food delivery services during crisis: TISM and Delphi techniques. *Sustainable Futures*, 100408. https://doi.org/10.1016/j.sftr.2024.100408\n",
    "\n",
    "Selvaraj, C., & Nallasivam, A. (2023). Reflection of star ratings on online customer reviews; its influence on consumer Decision-Making. In *Lecture notes in networks and systems* (pp. 107–128). https://doi.org/10.1007/978-981-19-6634-7_9"
   ]
  }
 ],
 "metadata": {
  "kernelspec": {
   "display_name": "R",
   "language": "R",
   "name": "ir"
  },
  "language_info": {
   "codemirror_mode": "r",
   "file_extension": ".r",
   "mimetype": "text/x-r-source",
   "name": "R",
   "pygments_lexer": "r",
   "version": "4.4.2"
  }
 },
 "nbformat": 4,
 "nbformat_minor": 4
}
