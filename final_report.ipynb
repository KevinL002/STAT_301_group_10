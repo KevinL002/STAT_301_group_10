{
 "cells": [
  {
   "cell_type": "markdown",
   "metadata": {},
   "source": [
    "# STAT 301 Final Report\n",
    "\n",
    "#### Group 10: Stellar Shar, Charles Deng, Kevin Li, Ibrahim Sajid"
   ]
  },
  {
   "cell_type": "code",
   "execution_count": 4,
   "metadata": {
    "vscode": {
     "languageId": "r"
    }
   },
   "outputs": [
    {
     "name": "stderr",
     "output_type": "stream",
     "text": [
      "── \u001b[1mAttaching core tidyverse packages\u001b[22m ──────────────────────── tidyverse 2.0.0 ──\n",
      "\u001b[32m✔\u001b[39m \u001b[34mforcats  \u001b[39m 1.0.0     \u001b[32m✔\u001b[39m \u001b[34mstringr  \u001b[39m 1.5.1\n",
      "\u001b[32m✔\u001b[39m \u001b[34mggplot2  \u001b[39m 3.5.1     \u001b[32m✔\u001b[39m \u001b[34mtibble   \u001b[39m 3.2.1\n",
      "\u001b[32m✔\u001b[39m \u001b[34mlubridate\u001b[39m 1.9.3     \u001b[32m✔\u001b[39m \u001b[34mtidyr    \u001b[39m 1.3.1\n",
      "\u001b[32m✔\u001b[39m \u001b[34mpurrr    \u001b[39m 1.0.2     \n",
      "── \u001b[1mConflicts\u001b[22m ────────────────────────────────────────── tidyverse_conflicts() ──\n",
      "\u001b[31m✖\u001b[39m \u001b[34mdplyr\u001b[39m::\u001b[32mfilter()\u001b[39m masks \u001b[34mstats\u001b[39m::filter()\n",
      "\u001b[31m✖\u001b[39m \u001b[34mdplyr\u001b[39m::\u001b[32mlag()\u001b[39m    masks \u001b[34mstats\u001b[39m::lag()\n",
      "\u001b[36mℹ\u001b[39m Use the conflicted package (\u001b[3m\u001b[34m<http://conflicted.r-lib.org/>\u001b[39m\u001b[23m) to force all conflicts to become errors\n"
     ]
    }
   ],
   "source": [
    "library(readr)\n",
    "library(dplyr)\n",
    "library(tidyverse)\n",
    "library(tidyr)\n",
    "library(leaps)"
   ]
  },
  {
   "cell_type": "markdown",
   "metadata": {},
   "source": [
    "## 1. Introduction"
   ]
  },
  {
   "cell_type": "markdown",
   "metadata": {},
   "source": [
    "Online food delivery has become a huge part of how we eat today. It's not just about convenience anymore; for many people, it's an everyday necessity. The industry is growing fast, about 9% each year, and could be worth nearly $2 trillion by 2029 according to recent research (Mohamadabadi et al., 2024). One of the most important things customers look at when ordering is the star rating. Research shows people trust these ratings almost as much as personal recommendations (Selvaraj & Nallasivam, 2023).\n",
    "\n",
    "This got us thinking: Could we predict a restaurant's star rating just by looking at basic information like its price range, how many reviews it has, how far it delivers, and what city it's in? Using real data from DoorDash in Canada, we're trying to build a model that does exactly that. We're not trying to figure out why certain restaurants get better ratings (that would require different methods), but rather see if we can make accurate predictions based on what we can observe.\n",
    "\n",
    "This approach builds on what we know from previous studies about how important ratings are in food delivery apps, while focusing on a practical prediction problem that could help both the platforms and restaurant owners. The idea is that if we can predict ratings well, it might help restaurants understand what factors matter most to customers, and help platforms improve their recommendation systems."
   ]
  },
  {
   "cell_type": "markdown",
   "metadata": {},
   "source": [
    "## 2. Methods and Results"
   ]
  },
  {
   "cell_type": "markdown",
   "metadata": {},
   "source": [
    "##### Part A: Data"
   ]
  },
  {
   "cell_type": "markdown",
   "metadata": {},
   "source": [
    "The dataset we use is [Food Delivery in Canada (DoorDash)](https://www.kaggle.com/datasets/satoshiss/food-delivery-in-canada-door-dash), with variables listed in the table below. It contains data on food delivery orders in Canada, focusing on restaurants with under 30-minute delivery times using iconic downtown addresses for each city on the DoorDash platform. The dataset has 9 variables and 3,290 observations, including order-related information such as restaurant details, delivery distance, price range, and more. These data are collected from DoorDash's public website without experimental manipulation, making this an observational dataset."
   ]
  },
  {
   "cell_type": "markdown",
   "metadata": {},
   "source": [
    "| **variable**       | **type**       | **description**                                                                 |\n",
    "|--------------------|----------------|---------------------------------------------------------------------------------|\n",
    "| restaurant         | text           | Name of the restaurant.                                                         |\n",
    "| url                | text           | Restaurant menu page URL.                                         |\n",
    "| distance           | numeric        | Distance from the order location to the restaurant (in miles).                  |\n",
    "| star               | numeric        | Star rating of the restaurant (out of 5).                               |\n",
    "| num_reviews        | numeric        | Number of reviews for the restaurant.                                           |\n",
    "| city               | categorical    | City where the order is placed (levels: Brampton, Calgary, Edmonton, Montreal, Ottawa, Toronto, Vancouver, Winnipeg).                                              |\n",
    "| price              | categorical    | Price range of the restaurant (levels expressed in 1 to 4 dollar signs).                        |\n",
    "| category_1         | text           | Primary cuisine type (e.g., indian, chinese, bakery, fast food).                |\n",
    "| category_2         | text           | Secondary menu category (e.g., biryani, burgers, noodles, vegetarian).          |"
   ]
  },
  {
   "cell_type": "markdown",
   "metadata": {},
   "source": [
    "In our analysis, we will exclude variables like restaurant name, URL, and category 1 and 2, since they are either not directly related to predicting star ratings or lack clarity in what they represent."
   ]
  },
  {
   "cell_type": "code",
   "execution_count": 20,
   "metadata": {
    "vscode": {
     "languageId": "r"
    }
   },
   "outputs": [
    {
     "name": "stderr",
     "output_type": "stream",
     "text": [
      "\u001b[1m\u001b[22mNew names:\n",
      "\u001b[36m•\u001b[39m `` -> `...1`\n"
     ]
    },
    {
     "data": {
      "text/html": [
       "<table class=\"dataframe\">\n",
       "<caption>A tibble: 6 × 5</caption>\n",
       "<thead>\n",
       "\t<tr><th scope=col>distance</th><th scope=col>star</th><th scope=col>num_reviews</th><th scope=col>price_range</th><th scope=col>city_size</th></tr>\n",
       "\t<tr><th scope=col>&lt;dbl&gt;</th><th scope=col>&lt;dbl&gt;</th><th scope=col>&lt;dbl&gt;</th><th scope=col>&lt;fct&gt;</th><th scope=col>&lt;chr&gt;</th></tr>\n",
       "</thead>\n",
       "<tbody>\n",
       "\t<tr><td>0.90</td><td>4.0</td><td>640</td><td>$$</td><td>Small City</td></tr>\n",
       "\t<tr><td>2.00</td><td>4.0</td><td>301</td><td>$$</td><td>Small City</td></tr>\n",
       "\t<tr><td>1.00</td><td>4.2</td><td>890</td><td>$$</td><td>Small City</td></tr>\n",
       "\t<tr><td>0.40</td><td>4.4</td><td>109</td><td>$ </td><td>Small City</td></tr>\n",
       "\t<tr><td>0.09</td><td>4.5</td><td>481</td><td>$$</td><td>Small City</td></tr>\n",
       "\t<tr><td>0.90</td><td>3.7</td><td>730</td><td>$$</td><td>Small City</td></tr>\n",
       "</tbody>\n",
       "</table>\n"
      ],
      "text/latex": [
       "A tibble: 6 × 5\n",
       "\\begin{tabular}{lllll}\n",
       " distance & star & num\\_reviews & price\\_range & city\\_size\\\\\n",
       " <dbl> & <dbl> & <dbl> & <fct> & <chr>\\\\\n",
       "\\hline\n",
       "\t 0.90 & 4.0 & 640 & \\$\\$ & Small City\\\\\n",
       "\t 2.00 & 4.0 & 301 & \\$\\$ & Small City\\\\\n",
       "\t 1.00 & 4.2 & 890 & \\$\\$ & Small City\\\\\n",
       "\t 0.40 & 4.4 & 109 & \\$  & Small City\\\\\n",
       "\t 0.09 & 4.5 & 481 & \\$\\$ & Small City\\\\\n",
       "\t 0.90 & 3.7 & 730 & \\$\\$ & Small City\\\\\n",
       "\\end{tabular}\n"
      ],
      "text/markdown": [
       "\n",
       "A tibble: 6 × 5\n",
       "\n",
       "| distance &lt;dbl&gt; | star &lt;dbl&gt; | num_reviews &lt;dbl&gt; | price_range &lt;fct&gt; | city_size &lt;chr&gt; |\n",
       "|---|---|---|---|---|\n",
       "| 0.90 | 4.0 | 640 | $$ | Small City |\n",
       "| 2.00 | 4.0 | 301 | $$ | Small City |\n",
       "| 1.00 | 4.2 | 890 | $$ | Small City |\n",
       "| 0.40 | 4.4 | 109 | $  | Small City |\n",
       "| 0.09 | 4.5 | 481 | $$ | Small City |\n",
       "| 0.90 | 3.7 | 730 | $$ | Small City |\n",
       "\n"
      ],
      "text/plain": [
       "  distance star num_reviews price_range city_size \n",
       "1 0.90     4.0  640         $$          Small City\n",
       "2 2.00     4.0  301         $$          Small City\n",
       "3 1.00     4.2  890         $$          Small City\n",
       "4 0.40     4.4  109         $           Small City\n",
       "5 0.09     4.5  481         $$          Small City\n",
       "6 0.90     3.7  730         $$          Small City"
      ]
     },
     "metadata": {},
     "output_type": "display_data"
    }
   ],
   "source": [
    "# Load data\n",
    "url <- \"https://raw.githubusercontent.com/KevinL002/STAT_301_group_10/refs/heads/main/cleaned_full_data.csv\"\n",
    "\n",
    "dataset <- read_csv(url, show_col_types = FALSE)\n",
    "colnames(dataset)[1] <- \"index\"\n",
    "\n",
    "# Data Processing\n",
    "cleaned_data <- dataset %>%\n",
    "    mutate(price_range = fct_collapse(price_range, \"$$$+\" = c(\"$$$\", \"$$$$\"))) %>%\n",
    "    mutate(city_size = case_when(city %in% c(\"Vancouver\", \"Calgary\", \"Toronto\", \"Montreal\") ~ \"Big City\", \n",
    "                                 TRUE ~ \"Small City\")) %>%  # Classify city size by their population\n",
    "    select(-1, -2, -3, -city, -category_1, -category_2)   # Select useful variables\n",
    "\n",
    "head(cleaned_data)\n",
    "# table(cleaned_data$price_range) <- (delete)"
   ]
  },
  {
   "cell_type": "markdown",
   "metadata": {},
   "source": []
  },
  {
   "cell_type": "markdown",
   "metadata": {},
   "source": [
    "## 3. Discussion"
   ]
  },
  {
   "cell_type": "markdown",
   "metadata": {},
   "source": []
  },
  {
   "cell_type": "markdown",
   "metadata": {},
   "source": [
    "## 4. References"
   ]
  },
  {
   "cell_type": "markdown",
   "metadata": {},
   "source": [
    "Dataset Citation:\n",
    "Data source: Satoshi_S. (2022). Food delivery in Canada (Door Dash) [Data set]. Kaggle. https://www.kaggle.com/datasets/satoshiss/food-delivery-in-canada-door-dash\n",
    "\n",
    "Mohamadabadi, T. A., Nazarian-Jashnabadi, J., Daryani, M. A., Al-Rashid, M. A., & Campisi, T. (2024). Factors affecting online customer experience of food delivery services during crisis: TISM and Delphi techniques. *Sustainable Futures*, 100408. https://doi.org/10.1016/j.sftr.2024.100408\n",
    "\n",
    "Selvaraj, C., & Nallasivam, A. (2023). Reflection of star ratings on online customer reviews; its influence on consumer Decision-Making. In *Lecture notes in networks and systems* (pp. 107–128). https://doi.org/10.1007/978-981-19-6634-7_9"
   ]
  },
  {
   "cell_type": "markdown",
   "metadata": {},
   "source": []
  }
 ],
 "metadata": {
  "kernelspec": {
   "display_name": "R",
   "language": "R",
   "name": "ir"
  },
  "language_info": {
   "codemirror_mode": "r",
   "file_extension": ".r",
   "mimetype": "text/x-r-source",
   "name": "R",
   "pygments_lexer": "r",
   "version": "4.3.3"
  }
 },
 "nbformat": 4,
 "nbformat_minor": 4
}
